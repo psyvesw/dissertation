{
 "cells": [
  {
   "cell_type": "markdown",
   "metadata": {},
   "source": [
    "## Merge Data"
   ]
  },
  {
   "cell_type": "code",
   "execution_count": 17,
   "metadata": {},
   "outputs": [
    {
     "name": "stdout",
     "output_type": "stream",
     "text": [
      "Public Merged Data Columns: Index(['id', 'document', 'Topic', 'Count', 'Theme', 'New Label',\n",
      "       'Detailed_Summary', 'Old Name', 'Representation'],\n",
      "      dtype='object')\n",
      "Expert Merged Data Columns: Index(['id', 'document', 'Topic', 'Count', 'Theme', 'New Label',\n",
      "       'Detailed_Summary', 'Old Name', 'Representation'],\n",
      "      dtype='object')\n",
      "Public Merged Data:\n",
      "        id                                           document  Topic  Count  \\\n",
      "0  kxh8adk  yeah people either didn't get to experience wh...      2    591   \n",
      "1  kxhy6n7  i discovered that i can make it act like a per...      0   2275   \n",
      "2  kxie58r  of course its a funny bit, i am a fan of bill ...     -1    971   \n",
      "3  kxiezxm  no, you don't sound insane at all, you know ev...     -1    971   \n",
      "4  kxin8br  i tried it:\\n\\n\"a character made a joke that o...      0   2275   \n",
      "\n",
      "                                            Theme  \\\n",
      "0                      The Impact of AI on Coding   \n",
      "1  Practical Applications of ChatGPT in Education   \n",
      "2                                             NaN   \n",
      "3                                             NaN   \n",
      "4  Practical Applications of ChatGPT in Education   \n",
      "\n",
      "                                        New Label  \\\n",
      "0             GPT's Role in Coding and Creativity   \n",
      "1  Practical and Creative Applications of ChatGPT   \n",
      "2                                             NaN   \n",
      "3                                             NaN   \n",
      "4  Practical and Creative Applications of ChatGPT   \n",
      "\n",
      "                                    Detailed_Summary  \\\n",
      "0  Explores the transformative impact of GPT-3 on...   \n",
      "1  Discusses a user's method for using ChatGPT to...   \n",
      "2                                                NaN   \n",
      "3                                                NaN   \n",
      "4  Discusses a user's method for using ChatGPT to...   \n",
      "\n",
      "                         Old Name  \\\n",
      "0           2_gpt_code_model_just   \n",
      "1          0_chatgpt_chat_gpt_use   \n",
      "2  -1_ai_students_student_writing   \n",
      "3  -1_ai_students_student_writing   \n",
      "4          0_chatgpt_chat_gpt_use   \n",
      "\n",
      "                                      Representation  \n",
      "0  ['gpt', 'code', 'model', 'just', 'use', 'time'...  \n",
      "1  ['chatgpt', 'chat', 'gpt', 'use', 'chat gpt', ...  \n",
      "2  ['ai', 'students', 'student', 'writing', 'use'...  \n",
      "3  ['ai', 'students', 'student', 'writing', 'use'...  \n",
      "4  ['chatgpt', 'chat', 'gpt', 'use', 'chat gpt', ...  \n",
      "\n",
      "Expert Merged Data:\n",
      "   id                                           document  Topic  Count  \\\n",
      "0   1  a journal reviewer accused lizzie wolkovich of...     26     18   \n",
      "1   2  importantly to me — about how ai could corrupt...     26     18   \n",
      "2   3  we need to be able to call out fraud and misco...     26     18   \n",
      "3   4  exactly a year ago, we shared the advice of 11...     38     14   \n",
      "4   5   answers below have been edited for length and...     44     12   \n",
      "\n",
      "                                               Theme  \\\n",
      "0       Ethical Concerns in AI for Academic Research   \n",
      "1       Ethical Concerns in AI for Academic Research   \n",
      "2       Ethical Concerns in AI for Academic Research   \n",
      "3  Transforming Education and Institutional Pract...   \n",
      "4                      Integration of AI in Pedagogy   \n",
      "\n",
      "                                           New Label  \\\n",
      "0  Challenges of Using ChatGPT in Scientific Rese...   \n",
      "1  Challenges of Using ChatGPT in Scientific Rese...   \n",
      "2  Challenges of Using ChatGPT in Scientific Rese...   \n",
      "3   Institutional Strategies for Integrating ChatGPT   \n",
      "4  Generative AI in Writing Instruction and Facul...   \n",
      "\n",
      "                                    Detailed_Summary  \\\n",
      "0  Describes how ChatGPT produces fake but realis...   \n",
      "1  Describes how ChatGPT produces fake but realis...   \n",
      "2  Describes how ChatGPT produces fake but realis...   \n",
      "3  Encouragement for program-level conversations ...   \n",
      "4  Debate over the use of generative AI as a writ...   \n",
      "\n",
      "                                      Old Name  \\\n",
      "0  26_chatgpt_scientific_researchers_scholarly   \n",
      "1  26_chatgpt_scientific_researchers_scholarly   \n",
      "2  26_chatgpt_scientific_researchers_scholarly   \n",
      "3      38_chatgpt_institutions_national_advice   \n",
      "4          44_simulation_writing_think_faculty   \n",
      "\n",
      "                                      Representation  \n",
      "0  ['chatgpt', 'scientific', 'researchers', 'scho...  \n",
      "1  ['chatgpt', 'scientific', 'researchers', 'scho...  \n",
      "2  ['chatgpt', 'scientific', 'researchers', 'scho...  \n",
      "3  ['chatgpt', 'institutions', 'national', 'advic...  \n",
      "4  ['simulation', 'writing', 'think', 'faculty', ...  \n"
     ]
    }
   ],
   "source": [
    "import pandas as pd\n",
    "import sqlite3\n",
    "\n",
    "# Define file paths\n",
    "public_theme_path = \"/Users/vesper/Desktop/LSE/Capstone Project/dissertation/public_theme.xlsx\"\n",
    "expert_theme_path = \"/Users/vesper/Desktop/LSE/Capstone Project/dissertation/expert_theme.xlsx\"\n",
    "db_path = \"/Users/vesper/Desktop/LSE/Capstone Project/dissertation/arctic_shift/filtered_data/relevant_data.db\"\n",
    "\n",
    "# Load topic-theme associations from the correct sheets\n",
    "public_topics_df = pd.read_excel(public_theme_path, sheet_name='public_topic_theme_count', header=0)\n",
    "expert_topics_df = pd.read_excel(expert_theme_path, sheet_name='expert_topic_theme_count', header=0)\n",
    "\n",
    "# Rename the first column to 'Topic' for consistency\n",
    "public_topics_df.rename(columns={public_topics_df.columns[0]: 'Topic'}, inplace=True)\n",
    "expert_topics_df.rename(columns={expert_topics_df.columns[0]: 'Topic'}, inplace=True)\n",
    "\n",
    "# Connect to the database and load document-topic associations\n",
    "conn = sqlite3.connect(db_path)\n",
    "public_doc_topic_df = pd.read_sql_query(\"SELECT * FROM updated_public_doc_topic\", conn)\n",
    "expert_doc_topic_df = pd.read_sql_query(\"SELECT * FROM expert_doc_topic\", conn)\n",
    "\n",
    "# Rename columns for merging if necessary\n",
    "if 'topic' in public_doc_topic_df.columns:\n",
    "    public_doc_topic_df.rename(columns={'topic': 'Topic'}, inplace=True)\n",
    "if 'topic' in expert_doc_topic_df.columns:\n",
    "    expert_doc_topic_df.rename(columns={'topic': 'Topic'}, inplace=True)\n",
    "\n",
    "# Merge document-topic associations with topic-theme associations\n",
    "public_merged_df = pd.merge(public_doc_topic_df, public_topics_df, left_on='Topic', right_on='Topic')\n",
    "expert_merged_df = pd.merge(expert_doc_topic_df, expert_topics_df, left_on='Topic', right_on='Topic')\n",
    "\n",
    "# Display column names to determine correct number of columns\n",
    "print(\"Public Merged Data Columns:\", public_merged_df.columns)\n",
    "print(\"Expert Merged Data Columns:\", expert_merged_df.columns)\n",
    "\n",
    "# Store the merged dataframes back to the database\n",
    "public_merged_df.to_sql('public_merged_data', conn, if_exists='replace', index=False)\n",
    "expert_merged_df.to_sql('expert_merged_data', conn, if_exists='replace', index=False)\n",
    "\n",
    "# Close the database connection\n",
    "conn.close()\n",
    "\n",
    "# Display the first few rows of the merged dataframes\n",
    "print(\"Public Merged Data:\")\n",
    "print(public_merged_df.head())\n",
    "\n",
    "print(\"\\nExpert Merged Data:\")\n",
    "print(expert_merged_df.head())\n"
   ]
  },
  {
   "cell_type": "markdown",
   "metadata": {},
   "source": [
    "## Prepare and Clean data"
   ]
  },
  {
   "cell_type": "code",
   "execution_count": 18,
   "metadata": {},
   "outputs": [
    {
     "name": "stdout",
     "output_type": "stream",
     "text": [
      "Public Data Before Removal: Documents - 8309, Topics - 44, Themes - 12\n",
      "Public Data After Removal: Documents - 7054, Topics - 37, Themes - 11\n",
      "Expert Data Before Removal: Documents - 1133, Topics - 47, Themes - 10\n",
      "Expert Data After Removal: Documents - 940, Topics - 43, Themes - 9\n",
      "Public Data Themes: ['The Impact of AI on Coding'\n",
      " 'Practical Applications of ChatGPT in Education'\n",
      " 'Academic Integrity and AI Detection' 'The Impact of AI on Learning'\n",
      " 'Effective Use of AI in Education'\n",
      " 'Other Ethical Concerns of AI in Education'\n",
      " 'Integration of AI in Pedagogy' 'The Impact of AI on Email Communication'\n",
      " 'Integration of AI in Academic Research'\n",
      " 'The Impact of AI in Language Learning' 'The Impact of AI on Writing']\n",
      "Expert Data Themes: ['Ethical Concerns in AI for Academic Research'\n",
      " 'Transforming Education and Institutional Practices with AI'\n",
      " 'Integration of AI in Pedagogy' 'Academic Integrity and AI Detection'\n",
      " 'Enhancing Accessibility and Inclusivity with AI in Education'\n",
      " 'Workforce challenges' 'Integration of AI in Academic Research'\n",
      " 'The Impact of AI on Learning' 'Other Educational Implications of AI']\n"
     ]
    }
   ],
   "source": [
    "# Before removal\n",
    "num_public_docs_before = len(public_merged_df)\n",
    "num_expert_docs_before = len(expert_merged_df)\n",
    "num_public_topics_before = public_merged_df['Topic'].nunique()\n",
    "num_expert_topics_before = expert_merged_df['Topic'].nunique()\n",
    "num_public_themes_before = public_merged_df['Theme'].nunique()\n",
    "num_expert_themes_before = expert_merged_df['Theme'].nunique()\n",
    "\n",
    "# Remove irrelevant themes and topics, including topic -1\n",
    "public_merged_df = public_merged_df[(public_merged_df['Theme'] != 'Irrelavant') & (public_merged_df['Topic'] != -1)]\n",
    "expert_merged_df = expert_merged_df[(expert_merged_df['Theme'] != 'Irrelavant') & (expert_merged_df['Topic'] != -1)]\n",
    "\n",
    "# After removal\n",
    "num_public_docs_after = len(public_merged_df)\n",
    "num_expert_docs_after = len(expert_merged_df)\n",
    "num_public_topics_after = public_merged_df['Topic'].nunique()\n",
    "num_expert_topics_after = expert_merged_df['Topic'].nunique()\n",
    "num_public_themes_after = public_merged_df['Theme'].nunique()\n",
    "num_expert_themes_after = expert_merged_df['Theme'].nunique()\n",
    "\n",
    "print(\"Public Data Before Removal: Documents - {}, Topics - {}, Themes - {}\".format(num_public_docs_before, num_public_topics_before, num_public_themes_before))\n",
    "print(\"Public Data After Removal: Documents - {}, Topics - {}, Themes - {}\".format(num_public_docs_after, num_public_topics_after, num_public_themes_after))\n",
    "\n",
    "print(\"Expert Data Before Removal: Documents - {}, Topics - {}, Themes - {}\".format(num_expert_docs_before, num_expert_topics_before, num_expert_themes_before))\n",
    "print(\"Expert Data After Removal: Documents - {}, Topics - {}, Themes - {}\".format(num_expert_docs_after, num_expert_topics_after, num_expert_themes_after))\n",
    "\n",
    "# Check if 'Irrelevant' theme is still present\n",
    "print(\"Public Data Themes:\", public_merged_df['Theme'].unique())\n",
    "print(\"Expert Data Themes:\", expert_merged_df['Theme'].unique())"
   ]
  },
  {
   "cell_type": "markdown",
   "metadata": {},
   "source": [
    "## Sentiment Analysis on Public Data with VADER"
   ]
  },
  {
   "cell_type": "code",
   "execution_count": 4,
   "metadata": {},
   "outputs": [],
   "source": [
    "from vaderSentiment.vaderSentiment import SentimentIntensityAnalyzer\n",
    "\n",
    "# Initialize VADER sentiment analyzer\n",
    "analyzer = SentimentIntensityAnalyzer()\n",
    "\n",
    "# Apply VADER to public data\n",
    "public_merged_df['Sentiment'] = public_merged_df['document'].apply(lambda x: analyzer.polarity_scores(x)['compound'])\n"
   ]
  },
  {
   "cell_type": "markdown",
   "metadata": {},
   "source": [
    "## Sentiment Analysis on Expert Data using BERTbased Model\n",
    "### using distilbert-base-uncased from the Hugging Face transformers library"
   ]
  },
  {
   "cell_type": "code",
   "execution_count": 7,
   "metadata": {},
   "outputs": [
    {
     "data": {
      "application/vnd.jupyter.widget-view+json": {
       "model_id": "f1c07c8a52994ae8afcf52c7843ca756",
       "version_major": 2,
       "version_minor": 0
      },
      "text/plain": [
       "config.json:   0%|          | 0.00/483 [00:00<?, ?B/s]"
      ]
     },
     "metadata": {},
     "output_type": "display_data"
    },
    {
     "data": {
      "application/vnd.jupyter.widget-view+json": {
       "model_id": "44c41634ad664ae2826149869fec8f03",
       "version_major": 2,
       "version_minor": 0
      },
      "text/plain": [
       "model.safetensors:   0%|          | 0.00/268M [00:00<?, ?B/s]"
      ]
     },
     "metadata": {},
     "output_type": "display_data"
    },
    {
     "name": "stderr",
     "output_type": "stream",
     "text": [
      "Some weights of DistilBertForSequenceClassification were not initialized from the model checkpoint at distilbert-base-uncased and are newly initialized: ['classifier.bias', 'classifier.weight', 'pre_classifier.bias', 'pre_classifier.weight']\n",
      "You should probably TRAIN this model on a down-stream task to be able to use it for predictions and inference.\n"
     ]
    },
    {
     "data": {
      "application/vnd.jupyter.widget-view+json": {
       "model_id": "41efbf149c7747a3a684071f2d59be94",
       "version_major": 2,
       "version_minor": 0
      },
      "text/plain": [
       "tokenizer_config.json:   0%|          | 0.00/48.0 [00:00<?, ?B/s]"
      ]
     },
     "metadata": {},
     "output_type": "display_data"
    },
    {
     "data": {
      "application/vnd.jupyter.widget-view+json": {
       "model_id": "5a9cde9c8d064d08b344b7b644f42dae",
       "version_major": 2,
       "version_minor": 0
      },
      "text/plain": [
       "vocab.txt:   0%|          | 0.00/232k [00:00<?, ?B/s]"
      ]
     },
     "metadata": {},
     "output_type": "display_data"
    },
    {
     "data": {
      "application/vnd.jupyter.widget-view+json": {
       "model_id": "282aee4d2bb34d93a93ac8141fbef115",
       "version_major": 2,
       "version_minor": 0
      },
      "text/plain": [
       "tokenizer.json:   0%|          | 0.00/466k [00:00<?, ?B/s]"
      ]
     },
     "metadata": {},
     "output_type": "display_data"
    }
   ],
   "source": [
    "from transformers import pipeline\n",
    "import torch\n",
    "from tqdm import tqdm\n",
    "\n",
    "# Initialize DistilBERT sentiment analyzer\n",
    "device = 0 if torch.cuda.is_available() else -1\n",
    "distilbert_analyzer = pipeline(\"sentiment-analysis\", model=\"distilbert-base-uncased\", device=device)\n",
    "\n",
    "# Function to get sentiment score using DistilBERT\n",
    "def get_distilbert_sentiment(text):\n",
    "    max_length = 512\n",
    "    if len(text) > max_length:\n",
    "        text = text[:max_length]\n",
    "    result = distilbert_analyzer(text)\n",
    "    return result[0]['score'] if result[0]['label'] == 'POSITIVE' else -result[0]['score']\n"
   ]
  },
  {
   "cell_type": "code",
   "execution_count": 9,
   "metadata": {},
   "outputs": [
    {
     "name": "stdout",
     "output_type": "stream",
     "text": [
      "Total number of batches to process: 36\n"
     ]
    },
    {
     "name": "stderr",
     "output_type": "stream",
     "text": [
      "100%|██████████| 36/36 [04:04<00:00,  6.80s/it]\n"
     ]
    }
   ],
   "source": [
    "# Function to run batch sentiment analysis\n",
    "def batch_sentiment_analysis(documents, batch_size=32):\n",
    "    num_batches = (len(documents) + batch_size - 1) // batch_size\n",
    "    print(f\"Total number of batches to process: {num_batches}\")\n",
    "    \n",
    "    sentiment_scores = []\n",
    "    \n",
    "    for i in tqdm(range(num_batches)):\n",
    "        batch = documents[i*batch_size:(i+1)*batch_size]\n",
    "        batch_scores = [get_distilbert_sentiment(doc) for doc in batch]\n",
    "        sentiment_scores.extend(batch_scores)\n",
    "    \n",
    "    return sentiment_scores\n",
    "\n",
    "# usage with expert data\n",
    "expert_sentiments = batch_sentiment_analysis(expert_merged_df['document'].tolist())\n",
    "\n",
    "# Add the sentiment scores to the dataframes\n",
    "expert_merged_df['Sentiment'] = expert_sentiments\n"
   ]
  },
  {
   "cell_type": "code",
   "execution_count": 11,
   "metadata": {},
   "outputs": [
    {
     "name": "stdout",
     "output_type": "stream",
     "text": [
      "Sentence: I love this product, it is amazing!\n",
      "VADER Sentiment: 0.8516\n",
      "DistilBERT Sentiment: -0.5088611841201782\n",
      "\n",
      "Sentence: This is a neutral sentence.\n",
      "VADER Sentiment: 0.0772\n",
      "DistilBERT Sentiment: -0.5040484666824341\n",
      "\n",
      "Sentence: I hate this product, it is terrible!\n",
      "VADER Sentiment: -0.7959\n",
      "DistilBERT Sentiment: -0.5035358667373657\n",
      "\n"
     ]
    }
   ],
   "source": [
    "# Test the sentiment analysis on known positive, neutral, and negative sentences to validate the results.\n",
    "test_sentences = [\n",
    "    \"I love this product, it is amazing!\",\n",
    "    \"This is a neutral sentence.\",\n",
    "    \"I hate this product, it is terrible!\"\n",
    "]\n",
    "\n",
    "for sentence in test_sentences:\n",
    "    print(f\"Sentence: {sentence}\")\n",
    "    print(f\"VADER Sentiment: {analyzer.polarity_scores(sentence)['compound']}\")\n",
    "    print(f\"DistilBERT Sentiment: {get_distilbert_sentiment(sentence)}\")\n",
    "    print()\n"
   ]
  },
  {
   "cell_type": "markdown",
   "metadata": {},
   "source": [
    "## Using the nlptown/bert-base-multilingual-uncased-sentiment model for both datasets"
   ]
  },
  {
   "cell_type": "code",
   "execution_count": 17,
   "metadata": {},
   "outputs": [],
   "source": [
    "from transformers import AutoTokenizer, AutoModelForSequenceClassification\n",
    "import torch\n",
    "import numpy as np\n",
    "from tqdm import tqdm\n",
    "import re\n",
    "\n",
    "# Load the tokenizer and model\n",
    "tokenizer = AutoTokenizer.from_pretrained(\"nlptown/bert-base-multilingual-uncased-sentiment\")\n",
    "model = AutoModelForSequenceClassification.from_pretrained(\"nlptown/bert-base-multilingual-uncased-sentiment\")\n",
    "\n",
    "# Preprocessing function\n",
    "def preprocess_text(text):\n",
    "    text = text.lower()\n",
    "    text = re.sub(r'\\s+', ' ', text).strip()\n",
    "    text = re.sub(r'[^a-zA-Z0-9\\s.,!?]', '', text)\n",
    "    return text\n",
    "\n",
    "# Function to get BERT sentiment\n",
    "def get_bert_sentiment(text):\n",
    "    text = preprocess_text(text)\n",
    "    inputs = tokenizer(text, return_tensors=\"pt\", truncation=True, max_length=512)\n",
    "    outputs = model(**inputs)\n",
    "    scores = outputs.logits[0].detach().numpy()\n",
    "    scores = torch.nn.functional.softmax(torch.tensor(scores), dim=0)\n",
    "    labels = ['very negative', 'negative', 'neutral', 'positive', 'very positive']\n",
    "    sentiment = {label: float(score) for label, score in zip(labels, scores)}\n",
    "    return sentiment\n"
   ]
  },
  {
   "cell_type": "code",
   "execution_count": 18,
   "metadata": {},
   "outputs": [],
   "source": [
    "# Function to run batch sentiment analysis using the BERT model\n",
    "def batch_sentiment_analysis(documents, batch_size=32):\n",
    "    num_batches = (len(documents) + batch_size - 1) // batch_size\n",
    "    print(f\"Total number of batches to process: {num_batches}\")\n",
    "    \n",
    "    sentiment_scores = []\n",
    "    \n",
    "    for i in tqdm(range(num_batches)):\n",
    "        batch = documents[i*batch_size:(i+1)*batch_size]\n",
    "        batch_scores = [get_bert_sentiment(doc) for doc in batch]\n",
    "        sentiment_scores.extend(batch_scores)\n",
    "    \n",
    "    return sentiment_scores"
   ]
  },
  {
   "cell_type": "code",
   "execution_count": null,
   "metadata": {},
   "outputs": [],
   "source": [
    "expert_sentiments = batch_sentiment_analysis(expert_merged_df['document'].tolist())\n",
    "print(\"Expert Sentiments Calculated:\", expert_sentiments[:5])  # Check the first few results"
   ]
  },
  {
   "cell_type": "code",
   "execution_count": null,
   "metadata": {},
   "outputs": [],
   "source": [
    "# Add the sentiment scores to the DataFrame\n",
    "expert_merged_df['Sentiment'] = expert_sentiments\n",
    "print(\"Expert DataFrame with Sentiments:\")\n",
    "print(expert_merged_df.head())  # Verify the first few rows"
   ]
  },
  {
   "cell_type": "code",
   "execution_count": 26,
   "metadata": {},
   "outputs": [
    {
     "name": "stdout",
     "output_type": "stream",
     "text": [
      "Total number of batches to process: 260\n"
     ]
    },
    {
     "name": "stderr",
     "output_type": "stream",
     "text": [
      "100%|██████████| 260/260 [1:03:56<00:00, 14.76s/it]\n"
     ]
    }
   ],
   "source": [
    "# Usage with public data\n",
    "public_sentiments = batch_sentiment_analysis(public_merged_df['document'].tolist())"
   ]
  },
  {
   "cell_type": "code",
   "execution_count": 63,
   "metadata": {},
   "outputs": [],
   "source": [
    "# Add the sentiment scores to the dataframes\n",
    "public_merged_df['Sentiment'] = public_sentiments"
   ]
  },
  {
   "cell_type": "code",
   "execution_count": null,
   "metadata": {},
   "outputs": [],
   "source": [
    "print(\"Public DataFrame with Sentiments:\")\n",
    "print(public_merged_df.head())  # Verify the first few rows"
   ]
  },
  {
   "cell_type": "code",
   "execution_count": null,
   "metadata": {},
   "outputs": [],
   "source": [
    "import sqlite3\n",
    "\n",
    "# Convert the sentiment dictionary into individual columns\n",
    "def sentiment_dict_to_columns(sentiment_dict):\n",
    "    return pd.Series(sentiment_dict)\n",
    "\n",
    "# Check if 'Sentiment' column exists and has correct data\n",
    "if 'Sentiment' in expert_merged_df.columns:\n",
    "    # Convert the sentiment dictionary into individual columns\n",
    "    expert_sentiment_df = expert_merged_df['Sentiment'].apply(sentiment_dict_to_columns)\n",
    "    expert_merged_df = pd.concat([expert_merged_df, expert_sentiment_df], axis=1)\n",
    "    expert_merged_df.drop(columns=['Sentiment'], inplace=True)\n",
    "    print(\"Expert DataFrame after expanding Sentiment column:\")\n",
    "    print(expert_merged_df.head())  # Verify the expanded DataFrame\n",
    "else:\n",
    "    print(\"Error: 'Sentiment' column not found in expert_merged_df.\")\n",
    "\n",
    "\n",
    "if 'Sentiment' in public_merged_df.columns:\n",
    "    # Convert the sentiment dictionary into individual columns\n",
    "    public_sentiment_df = public_merged_df['Sentiment'].apply(sentiment_dict_to_columns)\n",
    "    public_merged_df = pd.concat([public_merged_df, public_sentiment_df], axis=1)\n",
    "    public_merged_df.drop(columns=['Sentiment'], inplace=True)\n",
    "    print(\"Public DataFrame after expanding Sentiment column:\")\n",
    "    print(public_merged_df.head())  # Verify the expanded DataFrame\n",
    "else:\n",
    "    print(\"Error: 'Sentiment' column not found in public_merged_df.\")"
   ]
  },
  {
   "cell_type": "code",
   "execution_count": null,
   "metadata": {},
   "outputs": [],
   "source": [
    "# Connect to the SQLite database\n",
    "db_path = \"/Users/vesper/Desktop/LSE/Capstone Project/dissertation/arctic_shift/filtered_data/relevant_data.db\"\n",
    "conn = sqlite3.connect(db_path)\n",
    "\n",
    "\n",
    "public_merged_df.to_sql('public_merged_data', conn, if_exists='replace', index=False)\n",
    "\n",
    "# Close the database connection\n",
    "conn.close()\n",
    "\n",
    "# Display the first few rows of the expanded dataframes\n",
    "print(\"Public Expanded Data:\")\n",
    "print(public_merged_df.head())\n"
   ]
  },
  {
   "cell_type": "code",
   "execution_count": null,
   "metadata": {},
   "outputs": [],
   "source": [
    "# Connect to the SQLite database\n",
    "db_path = \"/Users/vesper/Desktop/LSE/Capstone Project/dissertation/arctic_shift/filtered_data/relevant_data.db\"\n",
    "conn = sqlite3.connect(db_path)\n",
    "\n",
    "expert_merged_df.to_sql('expert_merged_data', conn, if_exists='replace', index=False)\n",
    "\n",
    "# Close the database connection\n",
    "conn.close()\n",
    "\n",
    "print(\"\\nExpert Expanded Data:\")\n",
    "print(expert_merged_df.head())"
   ]
  },
  {
   "cell_type": "markdown",
   "metadata": {},
   "source": [
    "## Determine the Final Sentiment for Each Document"
   ]
  },
  {
   "cell_type": "code",
   "execution_count": 80,
   "metadata": {},
   "outputs": [
    {
     "name": "stdout",
     "output_type": "stream",
     "text": [
      "Expert DataFrame with Final Sentiment:\n",
      "                                            document Final Sentiment\n",
      "0  a journal reviewer accused lizzie wolkovich of...        negative\n",
      "1  importantly to me — about how ai could corrupt...   very negative\n",
      "2  we need to be able to call out fraud and misco...        negative\n",
      "3  exactly a year ago, we shared the advice of 11...        positive\n",
      "4   answers below have been edited for length and...        positive\n",
      "\n",
      "Public DataFrame with Final Sentiment:\n",
      "                                            document Final Sentiment\n",
      "0  yeah people either didn't get to experience wh...        negative\n",
      "1  i discovered that i can make it act like a per...         neutral\n",
      "2  of course its a funny bit, i am a fan of bill ...         neutral\n",
      "3  no, you don't sound insane at all, you know ev...   very negative\n",
      "4  i tried it:\\n\\n\"a character made a joke that o...         neutral\n"
     ]
    }
   ],
   "source": [
    "import sqlite3\n",
    "import pandas as pd\n",
    "\n",
    "# Path to the SQLite database\n",
    "db_path = \"/Users/vesper/Desktop/LSE/Capstone Project/dissertation/arctic_shift/filtered_data/relevant_data.db\"\n",
    "\n",
    "# Connect to the database and load the data\n",
    "with sqlite3.connect(db_path) as conn:\n",
    "    expert_df = pd.read_sql_query(\"SELECT * FROM expert_merged_data\", conn)\n",
    "    public_df = pd.read_sql_query(\"SELECT * FROM public_merged_data\", conn)\n",
    "\n",
    "# Exclude documents with the theme \"Irrelavant\"\n",
    "expert_df = expert_df[expert_df['Theme'] != 'Irrelavant']\n",
    "public_df = public_df[public_df['Theme'] != 'Irrelavant']\n",
    "\n",
    "# Ensure all sentiment columns are numeric\n",
    "sentiment_columns = ['very negative', 'negative', 'neutral', 'positive', 'very positive']\n",
    "expert_df[sentiment_columns] = expert_df[sentiment_columns].apply(pd.to_numeric, errors='coerce')\n",
    "public_df[sentiment_columns] = public_df[sentiment_columns].apply(pd.to_numeric, errors='coerce')\n",
    "\n",
    "# Function to determine the final sentiment for each document\n",
    "def determine_final_sentiment(row):\n",
    "    sentiment_scores = row[sentiment_columns]\n",
    "    return sentiment_scores.idxmax()\n",
    "\n",
    "# Apply the function to determine final sentiment for each document\n",
    "expert_df['Final Sentiment'] = expert_df.apply(determine_final_sentiment, axis=1)\n",
    "public_df['Final Sentiment'] = public_df.apply(determine_final_sentiment, axis=1)\n",
    "\n",
    "# Display the first few rows to verify\n",
    "print(\"Expert DataFrame with Final Sentiment:\")\n",
    "print(expert_df[['document', 'Final Sentiment']].head())\n",
    "\n",
    "print(\"\\nPublic DataFrame with Final Sentiment:\")\n",
    "print(public_df[['document', 'Final Sentiment']].head())\n"
   ]
  },
  {
   "cell_type": "markdown",
   "metadata": {},
   "source": [
    "## Calculate Overall Sentiment Distribution and Sentiment Distribution by Theme"
   ]
  },
  {
   "cell_type": "code",
   "execution_count": 82,
   "metadata": {},
   "outputs": [],
   "source": [
    "# Overall sentiment distribution DataFrame for expert data\n",
    "expert_overall_sentiment_df = expert_df['Final Sentiment'].value_counts(normalize=True).reset_index()\n",
    "expert_overall_sentiment_df.columns = ['Sentiment', 'Proportion']\n",
    "\n",
    "# Overall sentiment distribution DataFrame for public data\n",
    "public_overall_sentiment_df = public_df['Final Sentiment'].value_counts(normalize=True).reset_index()\n",
    "public_overall_sentiment_df.columns = ['Sentiment', 'Proportion']\n",
    "\n",
    "# Sentiment distribution by theme DataFrame for expert data\n",
    "expert_sentiment_by_theme_df = expert_df.groupby('Theme')['Final Sentiment'].value_counts(normalize=True).unstack().reset_index()\n",
    "expert_sentiment_by_theme_df['Most Common Sentiment'] = expert_sentiment_by_theme_df[sentiment_columns].idxmax(axis=1)\n",
    "\n",
    "# Sentiment distribution by theme DataFrame for public data\n",
    "public_sentiment_by_theme_df = public_df.groupby('Theme')['Final Sentiment'].value_counts(normalize=True).unstack().reset_index()\n",
    "public_sentiment_by_theme_df['Most Common Sentiment'] = public_sentiment_by_theme_df[sentiment_columns].idxmax(axis=1)\n"
   ]
  },
  {
   "cell_type": "code",
   "execution_count": 86,
   "metadata": {},
   "outputs": [],
   "source": [
    "# Save the DataFrames to Excel files\n",
    "output_path = \"/Users/vesper/Desktop/LSE/Capstone Project/dissertation/sentiment_analysis_results.xlsx\"\n",
    "with pd.ExcelWriter(output_path) as writer:\n",
    "    expert_overall_sentiment_df.to_excel(writer, sheet_name='Expert Overall Sentiment', index=False)\n",
    "    public_overall_sentiment_df.to_excel(writer, sheet_name='Public Overall Sentiment', index=False)\n",
    "    expert_sentiment_by_theme_df.to_excel(writer, sheet_name='Expert Sentiment by Theme', index=False)\n",
    "    public_sentiment_by_theme_df.to_excel(writer, sheet_name='Public Sentiment by Theme', index=False)"
   ]
  },
  {
   "cell_type": "code",
   "execution_count": 1,
   "metadata": {},
   "outputs": [],
   "source": [
    "import pandas as pd\n",
    "import matplotlib.pyplot as plt\n",
    "import seaborn as sns\n",
    "\n",
    "# Load data from each sheet\n",
    "file_path = '/Users/vesper/Desktop/LSE/Capstone Project/dissertation/sentiment_analysis_results.xlsx'\n",
    "expert_overall_sentiment_df = pd.read_excel(file_path, sheet_name='Expert Overall Sentiment')\n",
    "public_overall_sentiment_df = pd.read_excel(file_path, sheet_name='Public Overall Sentiment')\n",
    "expert_sentiment_by_theme_df = pd.read_excel(file_path, sheet_name='Expert Sentiment by Theme')\n",
    "public_sentiment_by_theme_df = pd.read_excel(file_path, sheet_name='Public Sentiment by Theme')\n"
   ]
  },
  {
   "cell_type": "code",
   "execution_count": 26,
   "metadata": {},
   "outputs": [
    {
     "data": {
      "image/png": "[encoded data removed]",
      "text/plain": [
       "<Figure size 1600x1000 with 1 Axes>"
      ]
     },
     "metadata": {},
     "output_type": "display_data"
    }
   ],
   "source": [
    "# Merge data for side-by-side comparison of overall sentiment\n",
    "overall_sentiment_df = pd.merge(expert_overall_sentiment_df, public_overall_sentiment_df, on='Sentiment', suffixes=('_Expert', '_Public'))\n",
    "\n",
    "# Plot side-by-side bar chart with improved colors and larger titles\n",
    "plt.figure(figsize=(16, 10))\n",
    "bar_width = 0.35\n",
    "index = range(len(overall_sentiment_df['Sentiment']))\n",
    "\n",
    "# Define a new color palette\n",
    "expert_color = '#1f77b4'\n",
    "public_color = '#8ECA82'\n",
    "\n",
    "bars1 = plt.bar(index, overall_sentiment_df['Proportion_Expert'], bar_width, label='Expert', color=expert_color)\n",
    "bars2 = plt.bar([i + bar_width for i in index], overall_sentiment_df['Proportion_Public'], bar_width, label='Public', color=public_color)\n",
    "\n",
    "plt.xlabel('Sentiment', fontsize=20)\n",
    "plt.ylabel('Proportion', fontsize=20)\n",
    "plt.title('Overall Sentiment Distribution Comparison', fontsize=25)\n",
    "plt.xticks([i + bar_width / 2 for i in index], overall_sentiment_df['Sentiment'], fontsize=16)\n",
    "plt.yticks(fontsize=14)\n",
    "plt.legend(fontsize=20, title='Group', title_fontsize='20')\n",
    "\n",
    "# Add data labels\n",
    "def add_labels(bars):\n",
    "    for bar in bars:\n",
    "        height = bar.get_height()\n",
    "        plt.text(bar.get_x() + bar.get_width() / 2.0, height, f'{height:.2f}', ha='center', va='bottom', fontsize=14)\n",
    "\n",
    "add_labels(bars1)\n",
    "add_labels(bars2)\n",
    "\n",
    "# Add gridlines\n",
    "plt.grid(axis='y', linestyle='--', alpha=0.7)\n",
    "\n",
    "plt.tight_layout()\n",
    "plt.savefig('/Users/vesper/Desktop/LSE/Capstone Project/dissertation/overall_sentiment_comparison.png')\n",
    "plt.show()"
   ]
  }
 ],
 "metadata": {
  "kernelspec": {
   "display_name": ".venv",
   "language": "python",
   "name": "python3"
  },
  "language_info": {
   "codemirror_mode": {
    "name": "ipython",
    "version": 3
   },
   "file_extension": ".py",
   "mimetype": "text/x-python",
   "name": "python",
   "nbconvert_exporter": "python",
   "pygments_lexer": "ipython3",
   "version": "3.10.7"
  }
 },
 "nbformat": 4,
 "nbformat_minor": 2
}
